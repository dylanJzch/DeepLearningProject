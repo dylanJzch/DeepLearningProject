{
  "nbformat": 4,
  "nbformat_minor": 0,
  "metadata": {
    "colab": {
      "provenance": [],
      "include_colab_link": true
    },
    "kernelspec": {
      "name": "python3",
      "display_name": "Python 3"
    },
    "language_info": {
      "name": "python"
    }
  },
  "cells": [
    {
      "cell_type": "markdown",
      "metadata": {
        "id": "view-in-github",
        "colab_type": "text"
      },
      "source": [
        "<a href=\"https://colab.research.google.com/github/dylanJzch/Predict-Credit-Card-Default/blob/main/Zhichen's_Copy_of_bdml_project.ipynb\" target=\"_parent\"><img src=\"https://colab.research.google.com/assets/colab-badge.svg\" alt=\"Open In Colab\"/></a>"
      ]
    },
    {
      "cell_type": "code",
      "source": [
        "import pandas as pd\n",
        "from sklearn.model_selection import train_test_split\n",
        "from sklearn.preprocessing import StandardScaler\n",
        "from keras.models import Sequential\n",
        "from keras.layers import Dense"
      ],
      "metadata": {
        "id": "-Ol9pkSje10o"
      },
      "execution_count": null,
      "outputs": []
    },
    {
      "cell_type": "code",
      "source": [
        "from google.colab import drive\n",
        "drive.mount('/content/drive')\n",
        "data = pd.read_excel(\"/content/drive/MyDrive/BDML/default_of_credit_card_clients.xls\")\n",
        "\n",
        "## drop the second row, becuase mixed data type, （String和int在一起了，我没想出别的办法）\n",
        "data = data.iloc[1:]\n",
        "data.reset_index(drop=True, inplace=True) ## reset index"
      ],
      "metadata": {
        "colab": {
          "base_uri": "https://localhost:8080/"
        },
        "id": "hFVBn12Th3bM",
        "outputId": "fa47182e-bc8b-4c5b-a967-12c07303a3f1"
      },
      "execution_count": null,
      "outputs": [
        {
          "output_type": "stream",
          "name": "stdout",
          "text": [
            "Mounted at /content/drive\n"
          ]
        }
      ]
    },
    {
      "cell_type": "code",
      "source": [
        "print(data.head())"
      ],
      "metadata": {
        "colab": {
          "base_uri": "https://localhost:8080/"
        },
        "id": "51oY8wbDmVvy",
        "outputId": "d3af1a09-bcb6-410a-be6a-e112a2a8cca8"
      },
      "execution_count": null,
      "outputs": [
        {
          "output_type": "stream",
          "name": "stdout",
          "text": [
            "  Unnamed: 0      X1 X2 X3 X4  X5  X6 X7  X8  X9  ...    X15    X16    X17  \\\n",
            "0          1   20000  2  2  1  24   2  2  -1  -1  ...      0      0      0   \n",
            "1          2  120000  2  2  2  26  -1  2   0   0  ...   3272   3455   3261   \n",
            "2          3   90000  2  2  2  34   0  0   0   0  ...  14331  14948  15549   \n",
            "3          4   50000  2  2  1  37   0  0   0   0  ...  28314  28959  29547   \n",
            "4          5   50000  1  2  1  57  -1  0  -1   0  ...  20940  19146  19131   \n",
            "\n",
            "    X18    X19    X20   X21   X22   X23  Y  \n",
            "0     0    689      0     0     0     0  1  \n",
            "1     0   1000   1000  1000     0  2000  1  \n",
            "2  1518   1500   1000  1000  1000  5000  0  \n",
            "3  2000   2019   1200  1100  1069  1000  0  \n",
            "4  2000  36681  10000  9000   689   679  0  \n",
            "\n",
            "[5 rows x 25 columns]\n"
          ]
        }
      ]
    },
    {
      "cell_type": "code",
      "source": [
        "## PARTITION by age\n",
        "## Female older than 30\n",
        "female_over_30 = data[(data['X2'] == 2) & (data['X5'] > 30)]\n",
        "\n",
        "## Male older than 30\n",
        "male_over_30 = data[(data['X2'] == 1) & (data['X5'] > 30)]\n",
        "\n",
        "##"
      ],
      "metadata": {
        "id": "k4Hwq9rqjgXF"
      },
      "execution_count": null,
      "outputs": []
    }
  ]
}