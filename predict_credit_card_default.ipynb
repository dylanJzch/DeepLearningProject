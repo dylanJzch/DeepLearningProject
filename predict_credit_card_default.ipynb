{
  "nbformat": 4,
  "nbformat_minor": 0,
  "metadata": {
    "colab": {
      "provenance": [],
      "include_colab_link": true
    },
    "kernelspec": {
      "name": "python3",
      "display_name": "Python 3"
    },
    "language_info": {
      "name": "python"
    }
  },
  "cells": [
    {
      "cell_type": "markdown",
      "metadata": {
        "id": "view-in-github",
        "colab_type": "text"
      },
      "source": [
        "<a href=\"https://colab.research.google.com/github/dylanJzch/Predict-Credit-Card-Default/blob/main/predict_credit_card_default.ipynb\" target=\"_parent\"><img src=\"https://colab.research.google.com/assets/colab-badge.svg\" alt=\"Open In Colab\"/></a>"
      ]
    },
    {
      "cell_type": "code",
      "source": [
        "import pandas as pd\n",
        "from sklearn.model_selection import train_test_split\n",
        "from sklearn.preprocessing import StandardScaler\n",
        "from tensorflow.keras.models import Sequential\n",
        "from tensorflow.keras.layers import Dense, LSTM\n",
        "from tensorflow.keras.layers import LSTM, Dense, Dropout\n",
        "from tensorflow.keras.callbacks import EarlyStopping\n",
        "import numpy as np"
      ],
      "metadata": {
        "id": "-Ol9pkSje10o"
      },
      "execution_count": 26,
      "outputs": []
    },
    {
      "cell_type": "markdown",
      "source": [
        "# **Data preprocessing**\n"
      ],
      "metadata": {
        "id": "gLBhPbL6kdtJ"
      }
    },
    {
      "cell_type": "code",
      "source": [
        "from google.colab import drive\n",
        "drive.mount('/content/drive')\n",
        "df_raw = pd.read_excel(\"/content/drive/MyDrive/BDML/default_of_credit_card_clients.xls\")\n",
        "\n",
        "df = df_raw.iloc[1:,1:] #remove the first row and first column\n",
        "df.columns = df_raw.iloc[0].values[1:]\n",
        "print(df.shape)\n",
        "df"
      ],
      "metadata": {
        "colab": {
          "base_uri": "https://localhost:8080/",
          "height": 574
        },
        "id": "hFVBn12Th3bM",
        "outputId": "ff8c6ba2-a772-4ac1-84fd-14da61ded676"
      },
      "execution_count": 27,
      "outputs": [
        {
          "output_type": "stream",
          "name": "stdout",
          "text": [
            "Drive already mounted at /content/drive; to attempt to forcibly remount, call drive.mount(\"/content/drive\", force_remount=True).\n",
            "(30000, 24)\n"
          ]
        },
        {
          "output_type": "execute_result",
          "data": {
            "text/plain": [
              "      LIMIT_BAL SEX EDUCATION MARRIAGE AGE PAY_0 PAY_2 PAY_3 PAY_4 PAY_5  ...  \\\n",
              "1         20000   2         2        1  24     2     2    -1    -1    -2  ...   \n",
              "2        120000   2         2        2  26    -1     2     0     0     0  ...   \n",
              "3         90000   2         2        2  34     0     0     0     0     0  ...   \n",
              "4         50000   2         2        1  37     0     0     0     0     0  ...   \n",
              "5         50000   1         2        1  57    -1     0    -1     0     0  ...   \n",
              "...         ...  ..       ...      ...  ..   ...   ...   ...   ...   ...  ...   \n",
              "29996    220000   1         3        1  39     0     0     0     0     0  ...   \n",
              "29997    150000   1         3        2  43    -1    -1    -1    -1     0  ...   \n",
              "29998     30000   1         2        2  37     4     3     2    -1     0  ...   \n",
              "29999     80000   1         3        1  41     1    -1     0     0     0  ...   \n",
              "30000     50000   1         2        1  46     0     0     0     0     0  ...   \n",
              "\n",
              "      BILL_AMT4 BILL_AMT5 BILL_AMT6 PAY_AMT1 PAY_AMT2 PAY_AMT3 PAY_AMT4  \\\n",
              "1             0         0         0        0      689        0        0   \n",
              "2          3272      3455      3261        0     1000     1000     1000   \n",
              "3         14331     14948     15549     1518     1500     1000     1000   \n",
              "4         28314     28959     29547     2000     2019     1200     1100   \n",
              "5         20940     19146     19131     2000    36681    10000     9000   \n",
              "...         ...       ...       ...      ...      ...      ...      ...   \n",
              "29996     88004     31237     15980     8500    20000     5003     3047   \n",
              "29997      8979      5190         0     1837     3526     8998      129   \n",
              "29998     20878     20582     19357        0        0    22000     4200   \n",
              "29999     52774     11855     48944    85900     3409     1178     1926   \n",
              "30000     36535     32428     15313     2078     1800     1430     1000   \n",
              "\n",
              "      PAY_AMT5 PAY_AMT6 default payment next month  \n",
              "1            0        0                          1  \n",
              "2            0     2000                          1  \n",
              "3         1000     5000                          0  \n",
              "4         1069     1000                          0  \n",
              "5          689      679                          0  \n",
              "...        ...      ...                        ...  \n",
              "29996     5000     1000                          0  \n",
              "29997        0        0                          0  \n",
              "29998     2000     3100                          1  \n",
              "29999    52964     1804                          1  \n",
              "30000     1000     1000                          1  \n",
              "\n",
              "[30000 rows x 24 columns]"
            ],
            "text/html": [
              "\n",
              "  <div id=\"df-220c8d42-a964-46f9-a414-4393bf53d939\">\n",
              "    <div class=\"colab-df-container\">\n",
              "      <div>\n",
              "<style scoped>\n",
              "    .dataframe tbody tr th:only-of-type {\n",
              "        vertical-align: middle;\n",
              "    }\n",
              "\n",
              "    .dataframe tbody tr th {\n",
              "        vertical-align: top;\n",
              "    }\n",
              "\n",
              "    .dataframe thead th {\n",
              "        text-align: right;\n",
              "    }\n",
              "</style>\n",
              "<table border=\"1\" class=\"dataframe\">\n",
              "  <thead>\n",
              "    <tr style=\"text-align: right;\">\n",
              "      <th></th>\n",
              "      <th>LIMIT_BAL</th>\n",
              "      <th>SEX</th>\n",
              "      <th>EDUCATION</th>\n",
              "      <th>MARRIAGE</th>\n",
              "      <th>AGE</th>\n",
              "      <th>PAY_0</th>\n",
              "      <th>PAY_2</th>\n",
              "      <th>PAY_3</th>\n",
              "      <th>PAY_4</th>\n",
              "      <th>PAY_5</th>\n",
              "      <th>...</th>\n",
              "      <th>BILL_AMT4</th>\n",
              "      <th>BILL_AMT5</th>\n",
              "      <th>BILL_AMT6</th>\n",
              "      <th>PAY_AMT1</th>\n",
              "      <th>PAY_AMT2</th>\n",
              "      <th>PAY_AMT3</th>\n",
              "      <th>PAY_AMT4</th>\n",
              "      <th>PAY_AMT5</th>\n",
              "      <th>PAY_AMT6</th>\n",
              "      <th>default payment next month</th>\n",
              "    </tr>\n",
              "  </thead>\n",
              "  <tbody>\n",
              "    <tr>\n",
              "      <th>1</th>\n",
              "      <td>20000</td>\n",
              "      <td>2</td>\n",
              "      <td>2</td>\n",
              "      <td>1</td>\n",
              "      <td>24</td>\n",
              "      <td>2</td>\n",
              "      <td>2</td>\n",
              "      <td>-1</td>\n",
              "      <td>-1</td>\n",
              "      <td>-2</td>\n",
              "      <td>...</td>\n",
              "      <td>0</td>\n",
              "      <td>0</td>\n",
              "      <td>0</td>\n",
              "      <td>0</td>\n",
              "      <td>689</td>\n",
              "      <td>0</td>\n",
              "      <td>0</td>\n",
              "      <td>0</td>\n",
              "      <td>0</td>\n",
              "      <td>1</td>\n",
              "    </tr>\n",
              "    <tr>\n",
              "      <th>2</th>\n",
              "      <td>120000</td>\n",
              "      <td>2</td>\n",
              "      <td>2</td>\n",
              "      <td>2</td>\n",
              "      <td>26</td>\n",
              "      <td>-1</td>\n",
              "      <td>2</td>\n",
              "      <td>0</td>\n",
              "      <td>0</td>\n",
              "      <td>0</td>\n",
              "      <td>...</td>\n",
              "      <td>3272</td>\n",
              "      <td>3455</td>\n",
              "      <td>3261</td>\n",
              "      <td>0</td>\n",
              "      <td>1000</td>\n",
              "      <td>1000</td>\n",
              "      <td>1000</td>\n",
              "      <td>0</td>\n",
              "      <td>2000</td>\n",
              "      <td>1</td>\n",
              "    </tr>\n",
              "    <tr>\n",
              "      <th>3</th>\n",
              "      <td>90000</td>\n",
              "      <td>2</td>\n",
              "      <td>2</td>\n",
              "      <td>2</td>\n",
              "      <td>34</td>\n",
              "      <td>0</td>\n",
              "      <td>0</td>\n",
              "      <td>0</td>\n",
              "      <td>0</td>\n",
              "      <td>0</td>\n",
              "      <td>...</td>\n",
              "      <td>14331</td>\n",
              "      <td>14948</td>\n",
              "      <td>15549</td>\n",
              "      <td>1518</td>\n",
              "      <td>1500</td>\n",
              "      <td>1000</td>\n",
              "      <td>1000</td>\n",
              "      <td>1000</td>\n",
              "      <td>5000</td>\n",
              "      <td>0</td>\n",
              "    </tr>\n",
              "    <tr>\n",
              "      <th>4</th>\n",
              "      <td>50000</td>\n",
              "      <td>2</td>\n",
              "      <td>2</td>\n",
              "      <td>1</td>\n",
              "      <td>37</td>\n",
              "      <td>0</td>\n",
              "      <td>0</td>\n",
              "      <td>0</td>\n",
              "      <td>0</td>\n",
              "      <td>0</td>\n",
              "      <td>...</td>\n",
              "      <td>28314</td>\n",
              "      <td>28959</td>\n",
              "      <td>29547</td>\n",
              "      <td>2000</td>\n",
              "      <td>2019</td>\n",
              "      <td>1200</td>\n",
              "      <td>1100</td>\n",
              "      <td>1069</td>\n",
              "      <td>1000</td>\n",
              "      <td>0</td>\n",
              "    </tr>\n",
              "    <tr>\n",
              "      <th>5</th>\n",
              "      <td>50000</td>\n",
              "      <td>1</td>\n",
              "      <td>2</td>\n",
              "      <td>1</td>\n",
              "      <td>57</td>\n",
              "      <td>-1</td>\n",
              "      <td>0</td>\n",
              "      <td>-1</td>\n",
              "      <td>0</td>\n",
              "      <td>0</td>\n",
              "      <td>...</td>\n",
              "      <td>20940</td>\n",
              "      <td>19146</td>\n",
              "      <td>19131</td>\n",
              "      <td>2000</td>\n",
              "      <td>36681</td>\n",
              "      <td>10000</td>\n",
              "      <td>9000</td>\n",
              "      <td>689</td>\n",
              "      <td>679</td>\n",
              "      <td>0</td>\n",
              "    </tr>\n",
              "    <tr>\n",
              "      <th>...</th>\n",
              "      <td>...</td>\n",
              "      <td>...</td>\n",
              "      <td>...</td>\n",
              "      <td>...</td>\n",
              "      <td>...</td>\n",
              "      <td>...</td>\n",
              "      <td>...</td>\n",
              "      <td>...</td>\n",
              "      <td>...</td>\n",
              "      <td>...</td>\n",
              "      <td>...</td>\n",
              "      <td>...</td>\n",
              "      <td>...</td>\n",
              "      <td>...</td>\n",
              "      <td>...</td>\n",
              "      <td>...</td>\n",
              "      <td>...</td>\n",
              "      <td>...</td>\n",
              "      <td>...</td>\n",
              "      <td>...</td>\n",
              "      <td>...</td>\n",
              "    </tr>\n",
              "    <tr>\n",
              "      <th>29996</th>\n",
              "      <td>220000</td>\n",
              "      <td>1</td>\n",
              "      <td>3</td>\n",
              "      <td>1</td>\n",
              "      <td>39</td>\n",
              "      <td>0</td>\n",
              "      <td>0</td>\n",
              "      <td>0</td>\n",
              "      <td>0</td>\n",
              "      <td>0</td>\n",
              "      <td>...</td>\n",
              "      <td>88004</td>\n",
              "      <td>31237</td>\n",
              "      <td>15980</td>\n",
              "      <td>8500</td>\n",
              "      <td>20000</td>\n",
              "      <td>5003</td>\n",
              "      <td>3047</td>\n",
              "      <td>5000</td>\n",
              "      <td>1000</td>\n",
              "      <td>0</td>\n",
              "    </tr>\n",
              "    <tr>\n",
              "      <th>29997</th>\n",
              "      <td>150000</td>\n",
              "      <td>1</td>\n",
              "      <td>3</td>\n",
              "      <td>2</td>\n",
              "      <td>43</td>\n",
              "      <td>-1</td>\n",
              "      <td>-1</td>\n",
              "      <td>-1</td>\n",
              "      <td>-1</td>\n",
              "      <td>0</td>\n",
              "      <td>...</td>\n",
              "      <td>8979</td>\n",
              "      <td>5190</td>\n",
              "      <td>0</td>\n",
              "      <td>1837</td>\n",
              "      <td>3526</td>\n",
              "      <td>8998</td>\n",
              "      <td>129</td>\n",
              "      <td>0</td>\n",
              "      <td>0</td>\n",
              "      <td>0</td>\n",
              "    </tr>\n",
              "    <tr>\n",
              "      <th>29998</th>\n",
              "      <td>30000</td>\n",
              "      <td>1</td>\n",
              "      <td>2</td>\n",
              "      <td>2</td>\n",
              "      <td>37</td>\n",
              "      <td>4</td>\n",
              "      <td>3</td>\n",
              "      <td>2</td>\n",
              "      <td>-1</td>\n",
              "      <td>0</td>\n",
              "      <td>...</td>\n",
              "      <td>20878</td>\n",
              "      <td>20582</td>\n",
              "      <td>19357</td>\n",
              "      <td>0</td>\n",
              "      <td>0</td>\n",
              "      <td>22000</td>\n",
              "      <td>4200</td>\n",
              "      <td>2000</td>\n",
              "      <td>3100</td>\n",
              "      <td>1</td>\n",
              "    </tr>\n",
              "    <tr>\n",
              "      <th>29999</th>\n",
              "      <td>80000</td>\n",
              "      <td>1</td>\n",
              "      <td>3</td>\n",
              "      <td>1</td>\n",
              "      <td>41</td>\n",
              "      <td>1</td>\n",
              "      <td>-1</td>\n",
              "      <td>0</td>\n",
              "      <td>0</td>\n",
              "      <td>0</td>\n",
              "      <td>...</td>\n",
              "      <td>52774</td>\n",
              "      <td>11855</td>\n",
              "      <td>48944</td>\n",
              "      <td>85900</td>\n",
              "      <td>3409</td>\n",
              "      <td>1178</td>\n",
              "      <td>1926</td>\n",
              "      <td>52964</td>\n",
              "      <td>1804</td>\n",
              "      <td>1</td>\n",
              "    </tr>\n",
              "    <tr>\n",
              "      <th>30000</th>\n",
              "      <td>50000</td>\n",
              "      <td>1</td>\n",
              "      <td>2</td>\n",
              "      <td>1</td>\n",
              "      <td>46</td>\n",
              "      <td>0</td>\n",
              "      <td>0</td>\n",
              "      <td>0</td>\n",
              "      <td>0</td>\n",
              "      <td>0</td>\n",
              "      <td>...</td>\n",
              "      <td>36535</td>\n",
              "      <td>32428</td>\n",
              "      <td>15313</td>\n",
              "      <td>2078</td>\n",
              "      <td>1800</td>\n",
              "      <td>1430</td>\n",
              "      <td>1000</td>\n",
              "      <td>1000</td>\n",
              "      <td>1000</td>\n",
              "      <td>1</td>\n",
              "    </tr>\n",
              "  </tbody>\n",
              "</table>\n",
              "<p>30000 rows × 24 columns</p>\n",
              "</div>\n",
              "      <button class=\"colab-df-convert\" onclick=\"convertToInteractive('df-220c8d42-a964-46f9-a414-4393bf53d939')\"\n",
              "              title=\"Convert this dataframe to an interactive table.\"\n",
              "              style=\"display:none;\">\n",
              "        \n",
              "  <svg xmlns=\"http://www.w3.org/2000/svg\" height=\"24px\"viewBox=\"0 0 24 24\"\n",
              "       width=\"24px\">\n",
              "    <path d=\"M0 0h24v24H0V0z\" fill=\"none\"/>\n",
              "    <path d=\"M18.56 5.44l.94 2.06.94-2.06 2.06-.94-2.06-.94-.94-2.06-.94 2.06-2.06.94zm-11 1L8.5 8.5l.94-2.06 2.06-.94-2.06-.94L8.5 2.5l-.94 2.06-2.06.94zm10 10l.94 2.06.94-2.06 2.06-.94-2.06-.94-.94-2.06-.94 2.06-2.06.94z\"/><path d=\"M17.41 7.96l-1.37-1.37c-.4-.4-.92-.59-1.43-.59-.52 0-1.04.2-1.43.59L10.3 9.45l-7.72 7.72c-.78.78-.78 2.05 0 2.83L4 21.41c.39.39.9.59 1.41.59.51 0 1.02-.2 1.41-.59l7.78-7.78 2.81-2.81c.8-.78.8-2.07 0-2.86zM5.41 20L4 18.59l7.72-7.72 1.47 1.35L5.41 20z\"/>\n",
              "  </svg>\n",
              "      </button>\n",
              "      \n",
              "  <style>\n",
              "    .colab-df-container {\n",
              "      display:flex;\n",
              "      flex-wrap:wrap;\n",
              "      gap: 12px;\n",
              "    }\n",
              "\n",
              "    .colab-df-convert {\n",
              "      background-color: #E8F0FE;\n",
              "      border: none;\n",
              "      border-radius: 50%;\n",
              "      cursor: pointer;\n",
              "      display: none;\n",
              "      fill: #1967D2;\n",
              "      height: 32px;\n",
              "      padding: 0 0 0 0;\n",
              "      width: 32px;\n",
              "    }\n",
              "\n",
              "    .colab-df-convert:hover {\n",
              "      background-color: #E2EBFA;\n",
              "      box-shadow: 0px 1px 2px rgba(60, 64, 67, 0.3), 0px 1px 3px 1px rgba(60, 64, 67, 0.15);\n",
              "      fill: #174EA6;\n",
              "    }\n",
              "\n",
              "    [theme=dark] .colab-df-convert {\n",
              "      background-color: #3B4455;\n",
              "      fill: #D2E3FC;\n",
              "    }\n",
              "\n",
              "    [theme=dark] .colab-df-convert:hover {\n",
              "      background-color: #434B5C;\n",
              "      box-shadow: 0px 1px 3px 1px rgba(0, 0, 0, 0.15);\n",
              "      filter: drop-shadow(0px 1px 2px rgba(0, 0, 0, 0.3));\n",
              "      fill: #FFFFFF;\n",
              "    }\n",
              "  </style>\n",
              "\n",
              "      <script>\n",
              "        const buttonEl =\n",
              "          document.querySelector('#df-220c8d42-a964-46f9-a414-4393bf53d939 button.colab-df-convert');\n",
              "        buttonEl.style.display =\n",
              "          google.colab.kernel.accessAllowed ? 'block' : 'none';\n",
              "\n",
              "        async function convertToInteractive(key) {\n",
              "          const element = document.querySelector('#df-220c8d42-a964-46f9-a414-4393bf53d939');\n",
              "          const dataTable =\n",
              "            await google.colab.kernel.invokeFunction('convertToInteractive',\n",
              "                                                     [key], {});\n",
              "          if (!dataTable) return;\n",
              "\n",
              "          const docLinkHtml = 'Like what you see? Visit the ' +\n",
              "            '<a target=\"_blank\" href=https://colab.research.google.com/notebooks/data_table.ipynb>data table notebook</a>'\n",
              "            + ' to learn more about interactive tables.';\n",
              "          element.innerHTML = '';\n",
              "          dataTable['output_type'] = 'display_data';\n",
              "          await google.colab.output.renderOutput(dataTable, element);\n",
              "          const docLink = document.createElement('div');\n",
              "          docLink.innerHTML = docLinkHtml;\n",
              "          element.appendChild(docLink);\n",
              "        }\n",
              "      </script>\n",
              "    </div>\n",
              "  </div>\n",
              "  "
            ]
          },
          "metadata": {},
          "execution_count": 27
        }
      ]
    },
    {
      "cell_type": "markdown",
      "source": [
        "# **Create train and test for the RNN and LSTM models**\n"
      ],
      "metadata": {
        "id": "ef9szxQXzoKy"
      }
    },
    {
      "cell_type": "markdown",
      "source": [
        "*random split the whole data set*"
      ],
      "metadata": {
        "id": "OS2SsfxO_9LE"
      }
    },
    {
      "cell_type": "code",
      "source": [
        "# 20% of the data will be used for the test set, and the remaining 80% will be used for the training set. \n",
        "df_train, df_test = train_test_split(df, test_size=0.2, random_state=42)"
      ],
      "metadata": {
        "id": "ANq-25OU0NHw"
      },
      "execution_count": 28,
      "outputs": []
    },
    {
      "cell_type": "code",
      "source": [
        "## PARTITION by age\n",
        "female_over_30 = df[(df['SEX'] == 2) & (df['AGE'] > 30)] ## Female over 30\n",
        "female_under_30 = df[(df['SEX'] == 2) & (df['AGE'] < 30)] ## Female under 30\n",
        "\n",
        "male_over_30 = df[(df['SEX'] == 1) & (df['AGE'] > 30)] ## Male over 30\n",
        "male_under_30 = df[(df['SEX'] == 1) & (df['AGE'] < 30)] ## Male under 30\n",
        "##-------------------------------------------------------------------------------------------##\n",
        "## Partition by education\n",
        "## Female over 30: \n",
        "female_over_30_grad = female_over_30[female_over_30['EDUCATION'] == 1]  # graduate school\n",
        "female_over_30_uni = female_over_30[female_over_30['EDUCATION'] == 2]  # university\n",
        "female_over_30_highschool = female_over_30[female_over_30['EDUCATION'] == 3]  # high school\n",
        "female_over_30_others = female_over_30[female_over_30['EDUCATION'] == 4]  # others\n",
        "## Female under 30: \n",
        "female_under_30_grad = female_under_30[female_under_30['EDUCATION'] == 1]  # graduate school\n",
        "female_under_30_uni = female_under_30[female_under_30['EDUCATION'] == 2]  # university\n",
        "female_under_30_highschool = female_under_30[female_under_30['EDUCATION'] == 3]  # high school\n",
        "female_under_30_others = female_under_30[female_under_30['EDUCATION'] == 4]  # others\n",
        "## Male over 30: \n",
        "male_over_30_grad = male_over_30[male_over_30['EDUCATION'] == 1]  # graduate school\n",
        "male_over_30_uni = male_over_30[male_over_30['EDUCATION'] == 2]  # university\n",
        "male_over_30_highschool = male_over_30[male_over_30['EDUCATION'] == 3]  # high school\n",
        "male_over_30_others = male_over_30[male_over_30['EDUCATION'] == 4]  # others\n",
        "## Male under 30: \n",
        "male_under_30_grad = male_under_30[male_under_30['EDUCATION'] == 1]  # graduate school\n",
        "male_under_30_uni = male_under_30[male_under_30['EDUCATION'] == 2]  # university\n",
        "male_under_30_highschool = male_under_30[male_under_30['EDUCATION'] == 3]  # high school\n",
        "male_under_30_others = male_under_30[male_under_30['EDUCATION'] == 4]  # others \n",
        "male_married = df[(df['SEX'] == 1) & (df['MARRIAGE'] == 1)]\n",
        "female_married = df[(df['SEX'] == 2) & (df['MARRIAGE'] == 1)]"
      ],
      "metadata": {
        "id": "k4Hwq9rqjgXF"
      },
      "execution_count": 29,
      "outputs": []
    },
    {
      "cell_type": "code",
      "source": [
        "# Define the training set\n",
        "df_train = male_married\n",
        "# Define the list of other partitions\n",
        "#other_partitions = male_under_30_grad\n",
        "df_test = female_married\n",
        "# Concatenate other partitions to form the test set\n",
        "#df_test = pd.concat(other_partitions)"
      ],
      "metadata": {
        "id": "Nu0PqOSp130c"
      },
      "execution_count": 30,
      "outputs": []
    },
    {
      "cell_type": "code",
      "source": [
        "# Preparing data for the feedforward network\n",
        "X_train = df_train.drop('default payment next month', axis=1)\n",
        "y_train = df_train['default payment next month']"
      ],
      "metadata": {
        "id": "UbycipLAl00Y"
      },
      "execution_count": 31,
      "outputs": []
    },
    {
      "cell_type": "code",
      "source": [
        "# reShape for LSTM\n",
        "X_train = X_train.values.reshape((X_train.shape[0], X_train.shape[1], 1))"
      ],
      "metadata": {
        "id": "K-PuKUFj5qGg"
      },
      "execution_count": 32,
      "outputs": []
    },
    {
      "cell_type": "markdown",
      "source": [
        "# **3 Time Series**\n",
        "### *1: time_series_payment*\n",
        "### *2: time_series_bill_amt*\n",
        "### *3: time_series_pay_amt*"
      ],
      "metadata": {
        "id": "HRqYyrS-9KLU"
      }
    },
    {
      "cell_type": "code",
      "source": [
        "df_train.shape"
      ],
      "metadata": {
        "colab": {
          "base_uri": "https://localhost:8080/"
        },
        "id": "ZVmjkFMs8I35",
        "outputId": "d68c0b87-ac72-4ee7-f675-e0bdb66999c3"
      },
      "execution_count": 33,
      "outputs": [
        {
          "output_type": "execute_result",
          "data": {
            "text/plain": [
              "(5190, 24)"
            ]
          },
          "metadata": {},
          "execution_count": 33
        }
      ]
    },
    {
      "cell_type": "code",
      "source": [
        "time_series_payment = ['PAY_0', 'PAY_2', 'PAY_3', 'PAY_4', 'PAY_5', 'PAY_6', ]\n",
        "array1 = df_train[time_series_payment].values.astype(float)\n",
        "print(array1.shape) # 24000 users with 6 features"
      ],
      "metadata": {
        "colab": {
          "base_uri": "https://localhost:8080/"
        },
        "id": "JYRPuyJX7VVD",
        "outputId": "c8dfa195-3122-4820-b66f-bab577f15489"
      },
      "execution_count": 34,
      "outputs": [
        {
          "output_type": "stream",
          "name": "stdout",
          "text": [
            "(5190, 6)\n"
          ]
        }
      ]
    },
    {
      "cell_type": "code",
      "source": [
        "time_series_bill_amt = ['BILL_AMT1', 'BILL_AMT2', 'BILL_AMT3', 'BILL_AMT4', 'BILL_AMT5', 'BILL_AMT6',  ]\n",
        "array2 = df_train[time_series_bill_amt].values.astype(float)\n",
        "print(array2.shape) # 24000 users with 6 features"
      ],
      "metadata": {
        "colab": {
          "base_uri": "https://localhost:8080/"
        },
        "id": "9bt0yWMK8Rhr",
        "outputId": "436bf490-074c-45ba-ce52-e3e82432f985"
      },
      "execution_count": 35,
      "outputs": [
        {
          "output_type": "stream",
          "name": "stdout",
          "text": [
            "(5190, 6)\n"
          ]
        }
      ]
    },
    {
      "cell_type": "code",
      "source": [
        "time_series_pay_amt = ['PAY_AMT1','PAY_AMT2', 'PAY_AMT3', 'PAY_AMT4', 'PAY_AMT5', 'PAY_AMT6']\n",
        "array3 = df_train[time_series_pay_amt].values.astype(float)\n",
        "print(array3.shape) # 24000 users with 6 features"
      ],
      "metadata": {
        "colab": {
          "base_uri": "https://localhost:8080/"
        },
        "id": "1YZLP6zq9A9b",
        "outputId": "9099d7c7-997f-422b-ce7c-e5b56c410992"
      },
      "execution_count": 36,
      "outputs": [
        {
          "output_type": "stream",
          "name": "stdout",
          "text": [
            "(5190, 6)\n"
          ]
        }
      ]
    },
    {
      "cell_type": "code",
      "source": [
        "# Stack arrays along new axis\n",
        "X_train = np.stack([array1, array2, array3], axis=1)\n",
        "\n",
        "print(X_train.shape) "
      ],
      "metadata": {
        "colab": {
          "base_uri": "https://localhost:8080/"
        },
        "id": "fTFrFQJXsdpc",
        "outputId": "0f13c43f-ce4f-4a69-9189-8ef88990e1df"
      },
      "execution_count": 37,
      "outputs": [
        {
          "output_type": "stream",
          "name": "stdout",
          "text": [
            "(5190, 3, 6)\n"
          ]
        }
      ]
    },
    {
      "cell_type": "code",
      "source": [
        "y_train = df_train['default payment next month'].astype(int).values\n",
        "print(y_train.shape)"
      ],
      "metadata": {
        "colab": {
          "base_uri": "https://localhost:8080/"
        },
        "id": "1lQrpsUTtOHC",
        "outputId": "5e5571d0-5732-4da5-c4a4-a64412adc988"
      },
      "execution_count": 38,
      "outputs": [
        {
          "output_type": "stream",
          "name": "stdout",
          "text": [
            "(5190,)\n"
          ]
        }
      ]
    },
    {
      "cell_type": "markdown",
      "source": [
        "# **Preparing data for the test set**\n",
        "\n",
        "*Get X_test, y_test*\n"
      ],
      "metadata": {
        "id": "8ZeL41QDt2Zu"
      }
    },
    {
      "cell_type": "code",
      "source": [
        "X_test = df_test.drop('default payment next month', axis=1)\n",
        "y_test = df_test['default payment next month']"
      ],
      "metadata": {
        "id": "uljZd2esuD_9"
      },
      "execution_count": 39,
      "outputs": []
    },
    {
      "cell_type": "code",
      "source": [
        "# Create the 3 arrays for the 3 time-series\n",
        "time_series_payment = ['PAY_0', 'PAY_2', 'PAY_3', 'PAY_4', 'PAY_5', 'PAY_6', ]\n",
        "array1_test = df_test[time_series_payment].values.astype(float)\n",
        "\n",
        "time_series_bill_amt = ['BILL_AMT1', 'BILL_AMT2', 'BILL_AMT3', 'BILL_AMT4', 'BILL_AMT5', 'BILL_AMT6',  ]\n",
        "array2_test = df_test[time_series_bill_amt].values.astype(float)\n",
        "\n",
        "time_series_pay_amt = ['PAY_AMT1','PAY_AMT2', 'PAY_AMT3', 'PAY_AMT4', 'PAY_AMT5', 'PAY_AMT6']\n",
        "array3_test = df_test[time_series_pay_amt].values.astype(float)\n",
        "\n",
        "# Stack arrays along new axis\n",
        "X_test = np.stack([array1_test, array2_test, array3_test], axis=1)\n",
        "\n",
        "print(f'X test:',X_test.shape)\n",
        "print(f'Y test:',y_test.shape)"
      ],
      "metadata": {
        "colab": {
          "base_uri": "https://localhost:8080/"
        },
        "id": "PmNP1iQOuGTW",
        "outputId": "a01cad92-adc8-4de6-bcf1-1fcb2369e3ad"
      },
      "execution_count": 40,
      "outputs": [
        {
          "output_type": "stream",
          "name": "stdout",
          "text": [
            "X test: (8469, 3, 6)\n",
            "Y test: (8469,)\n"
          ]
        }
      ]
    },
    {
      "cell_type": "markdown",
      "source": [
        "# **LSTM Model**\n"
      ],
      "metadata": {
        "id": "X698f4vivPKv"
      }
    },
    {
      "cell_type": "code",
      "source": [
        "# Define model\n",
        "model = Sequential()\n",
        "model.add(LSTM(128, activation='relu', return_sequences=True, input_shape=(3, 6)))\n",
        "model.add(Dropout(0.3))  # 20% dropout\n",
        "model.add(LSTM(64, activation='relu', return_sequences=True))\n",
        "model.add(Dropout(0.3))  # 20% dropout\n",
        "model.add(LSTM(32, activation='relu'))\n",
        "model.add(Dropout(0.3))\n",
        "model.add(Dense(1))\n",
        "\n",
        "# Compile the LSTM model\n",
        "model.compile(optimizer='adam', loss='binary_crossentropy', metrics=['accuracy'])\n",
        "\n",
        "# Define early stopping\n",
        "es = EarlyStopping(monitor='val_loss', mode='min', verbose=1, patience=5)\n",
        "\n",
        "# Summary of the model\n",
        "model.summary()"
      ],
      "metadata": {
        "id": "EFmLLuJvvWsr",
        "colab": {
          "base_uri": "https://localhost:8080/"
        },
        "outputId": "a2d3d7ad-48bd-4253-b328-1ce58b602584"
      },
      "execution_count": 41,
      "outputs": [
        {
          "output_type": "stream",
          "name": "stdout",
          "text": [
            "Model: \"sequential_1\"\n",
            "_________________________________________________________________\n",
            " Layer (type)                Output Shape              Param #   \n",
            "=================================================================\n",
            " lstm_3 (LSTM)               (None, 3, 128)            69120     \n",
            "                                                                 \n",
            " dropout_3 (Dropout)         (None, 3, 128)            0         \n",
            "                                                                 \n",
            " lstm_4 (LSTM)               (None, 3, 64)             49408     \n",
            "                                                                 \n",
            " dropout_4 (Dropout)         (None, 3, 64)             0         \n",
            "                                                                 \n",
            " lstm_5 (LSTM)               (None, 32)                12416     \n",
            "                                                                 \n",
            " dropout_5 (Dropout)         (None, 32)                0         \n",
            "                                                                 \n",
            " dense_1 (Dense)             (None, 1)                 33        \n",
            "                                                                 \n",
            "=================================================================\n",
            "Total params: 130,977\n",
            "Trainable params: 130,977\n",
            "Non-trainable params: 0\n",
            "_________________________________________________________________\n"
          ]
        }
      ]
    },
    {
      "cell_type": "markdown",
      "source": [
        "### Train the model:"
      ],
      "metadata": {
        "id": "928Drywaxm1g"
      }
    },
    {
      "cell_type": "code",
      "source": [
        "# Train the feedforward network\n",
        "model.fit(X_train, y_train, epochs=35, batch_size=128, \n",
        "          validation_split=0.2, callbacks=[es])\n",
        "\n",
        "# Evaluate the feedforward network\n"
      ],
      "metadata": {
        "colab": {
          "base_uri": "https://localhost:8080/"
        },
        "id": "71BVrjCopcmq",
        "outputId": "b9fa551d-ebd6-443c-88c9-f1eaa85148b3"
      },
      "execution_count": 45,
      "outputs": [
        {
          "output_type": "stream",
          "name": "stdout",
          "text": [
            "Epoch 1/35\n",
            "33/33 [==============================] - 5s 73ms/step - loss: 4.0697 - accuracy: 0.7211 - val_loss: 3.6636 - val_accuracy: 0.7390\n",
            "Epoch 2/35\n",
            "33/33 [==============================] - 2s 46ms/step - loss: 4.0679 - accuracy: 0.7223 - val_loss: 3.6902 - val_accuracy: 0.7372\n",
            "Epoch 3/35\n",
            "33/33 [==============================] - 1s 42ms/step - loss: 4.0483 - accuracy: 0.7213 - val_loss: 3.7014 - val_accuracy: 0.7381\n",
            "Epoch 4/35\n",
            "33/33 [==============================] - 1s 26ms/step - loss: 3.9708 - accuracy: 0.7254 - val_loss: 3.6431 - val_accuracy: 0.7416\n",
            "Epoch 5/35\n",
            "33/33 [==============================] - 1s 27ms/step - loss: 4.0573 - accuracy: 0.7228 - val_loss: 3.6421 - val_accuracy: 0.7416\n",
            "Epoch 6/35\n",
            "33/33 [==============================] - 1s 27ms/step - loss: 3.9503 - accuracy: 0.7312 - val_loss: 3.6420 - val_accuracy: 0.7416\n",
            "Epoch 7/35\n",
            "33/33 [==============================] - 1s 26ms/step - loss: 4.0407 - accuracy: 0.7237 - val_loss: 3.6569 - val_accuracy: 0.7407\n",
            "Epoch 8/35\n",
            "33/33 [==============================] - 1s 26ms/step - loss: 3.9956 - accuracy: 0.7271 - val_loss: 3.6721 - val_accuracy: 0.7398\n",
            "Epoch 9/35\n",
            "33/33 [==============================] - 1s 29ms/step - loss: 3.9890 - accuracy: 0.7271 - val_loss: 3.6441 - val_accuracy: 0.7407\n",
            "Epoch 10/35\n",
            "33/33 [==============================] - 1s 26ms/step - loss: 3.9951 - accuracy: 0.7252 - val_loss: 3.6584 - val_accuracy: 0.7398\n",
            "Epoch 11/35\n",
            "33/33 [==============================] - 1s 28ms/step - loss: 3.9849 - accuracy: 0.7271 - val_loss: 3.6582 - val_accuracy: 0.7407\n",
            "Epoch 11: early stopping\n"
          ]
        },
        {
          "output_type": "execute_result",
          "data": {
            "text/plain": [
              "<keras.callbacks.History at 0x7fb047a579a0>"
            ]
          },
          "metadata": {},
          "execution_count": 45
        }
      ]
    },
    {
      "cell_type": "markdown",
      "source": [
        "# Evaluate the model"
      ],
      "metadata": {
        "id": "e5R56RTj-6UO"
      }
    },
    {
      "cell_type": "code",
      "source": [
        "# Evaluate on test data\n",
        "y_train = y_train.astype('float32')\n",
        "y_test = y_test.astype('float32')\n",
        "\n",
        "loss, accuracy = model.evaluate(X_test, y_test)\n",
        "\n",
        "print(\"Test Loss:\", loss)\n",
        "print(\"Test Accuracy:\", accuracy)\n"
      ],
      "metadata": {
        "colab": {
          "base_uri": "https://localhost:8080/"
        },
        "id": "vtQ7bgAg-9II",
        "outputId": "973db72d-4622-4ed0-b213-590356731386"
      },
      "execution_count": 46,
      "outputs": [
        {
          "output_type": "stream",
          "name": "stdout",
          "text": [
            "265/265 [==============================] - 2s 6ms/step - loss: 3.2569 - accuracy: 0.7799\n",
            "Test Loss: 3.2569286823272705\n",
            "Test Accuracy: 0.7799031734466553\n"
          ]
        }
      ]
    }
  ]
}